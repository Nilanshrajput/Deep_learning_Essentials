{
 "cells": [
  {
   "cell_type": "markdown",
   "metadata": {},
   "source": [
    "\"\"\"\n",
    "\n",
    "Topics: Boolean array operators, sum function, where function, plotting.\n",
    "\n",
    "The array 'dow' is a 2-D array with each row holding the\n",
    "daily performance of the Dow Jones Industrial Average from the\n",
    "beginning of 2008 (dates have been removed for exercise simplicity).\n",
    "The array has the following structure::\n",
    "\n",
    "       OPEN      HIGH      LOW       CLOSE     VOLUME      ADJ_CLOSE\n",
    "       13261.82  13338.23  12969.42  13043.96  3452650000  13043.96\n",
    "       13044.12  13197.43  12968.44  13056.72  3429500000  13056.72\n",
    "       13046.56  13049.65  12740.51  12800.18  4166000000  12800.18\n",
    "       12801.15  12984.95  12640.44  12827.49  4221260000  12827.49\n",
    "       12820.9   12998.11  12511.03  12589.07  4705390000  12589.07\n",
    "       12590.21  12814.97  12431.53  12735.31  5351030000  12735.31\n",
    "\n",
    "0. The data has been loaded from a .csv file for you.\n",
    "1. Create a \"mask\" array that indicates which rows have a volume\n",
    "   greater than 5.5 billion.\n",
    "2. How many are there?  (hint: use sum).\n",
    "3. Find the index of every row (or day) where the volume is greater\n",
    "   than 5.5 billion. hint: look at the where() command.\n",
    "\n",
    "Bonus\n",
    "~~~~~\n",
    "\n",
    "1. Plot the adjusted close for *every* day in 2008.\n",
    "2. Now over-plot this plot with a 'red dot' marker for every\n",
    "   day where the volume was greater than 5.5 billion.\n",
    "\n",
    "\"\"\"\n"
   ]
  },
  {
   "cell_type": "code",
   "execution_count": 2,
   "metadata": {},
   "outputs": [],
   "source": [
    "from __future__ import print_function\n",
    "from numpy import loadtxt, sum, where\n",
    "import matplotlib.pyplot as plt\n",
    "import numpy as np\n",
    "# Constants that indicate what data is held in each column of\n",
    "# the 'dow' array.\n",
    "OPEN = 0\n",
    "HIGH = 1\n",
    "LOW = 2\n",
    "CLOSE = 3\n",
    "VOLUME = 4\n",
    "ADJ_CLOSE = 5\n",
    "\n",
    "# 0. The data has been loaded from a csv file for you.\n",
    "\n",
    "# 'dow' is our NumPy array that we will manipulate.\n",
    "dow = loadtxt('dow.csv', delimiter=',')\n",
    "\n",
    "\n",
    "# 1. Create a \"mask\" array that indicates which rows have a volume\n",
    "#    greater than 5.5 billion.\n",
    "high_volume_mask = dow[:, VOLUME] > 5.5e9\n",
    "\n"
   ]
  },
  {
   "cell_type": "code",
   "execution_count": 3,
   "metadata": {},
   "outputs": [
    {
     "name": "stdout",
     "output_type": "stream",
     "text": [
      "The dow volume has been above 5.5 billion on 18 days this year.\n"
     ]
    },
    {
     "data": {
      "image/png": "[encoded data removed]",
      "text/plain": [
       "<Figure size 432x288 with 1 Axes>"
      ]
     },
     "metadata": {
      "needs_background": "light"
     },
     "output_type": "display_data"
    }
   ],
   "source": [
    "# 2. How many are there?  (hint: use sum).\n",
    "high_volume_days = sum(high_volume_mask)\n",
    "print(\"The dow volume has been above 5.5 billion on\" \\\n",
    "      \" %d days this year.\" % high_volume_days)\n",
    "\n",
    "# 3. Find the index of every row (or day) where the volume is greater\n",
    "#    than 5.5 billion. hint: look at the where() command.\n",
    "high_vol_index = where(high_volume_mask)[0]\n",
    "\n",
    "# BONUS:\n",
    "# 1. Plot the adjusted close for EVERY day in 2008.\n",
    "# 2. Now over-plot this plot with a 'red dot' marker for every\n",
    "#    day where the dow was greater than 5.5 billion.                                                     \n",
    "\n",
    "# Create a new plot.\n",
    "plt.figure()\n",
    "\n",
    "# Plot the adjusted close for every day of the year as a blue line.\n",
    "# In the format string 'b-', 'b' means blue and '-' indicates a line.\n",
    "plt.plot(dow[:, ADJ_CLOSE], 'b-')\n",
    "\n",
    "# Plot the days where the volume was high with red dots...\n",
    "plt.plot(high_vol_index, dow[high_vol_index, ADJ_CLOSE], 'ro')\n",
    "\n",
    "# Scripts must call the \"plt.show\" command to display the plot\n",
    "# to the screen.\n",
    "plt.show()"
   ]
  },
  {
   "cell_type": "code",
   "execution_count": null,
   "metadata": {},
   "outputs": [],
   "source": []
  }
 ],
 "metadata": {
  "kernelspec": {
   "display_name": "pytorch",
   "language": "python",
   "name": "pytorch"
  },
  "language_info": {
   "codemirror_mode": {
    "name": "ipython",
    "version": 3
   },
   "file_extension": ".py",
   "mimetype": "text/x-python",
   "name": "python",
   "nbconvert_exporter": "python",
   "pygments_lexer": "ipython3",
   "version": "3.6.8"
  }
 },
 "nbformat": 4,
 "nbformat_minor": 4
}
